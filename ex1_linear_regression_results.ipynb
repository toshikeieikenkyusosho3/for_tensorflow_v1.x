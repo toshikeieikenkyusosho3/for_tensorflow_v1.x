{
 "cells": [
  {
   "cell_type": "code",
   "execution_count": 1,
   "metadata": {
    "collapsed": false
   },
   "outputs": [
    {
     "name": "stdout",
     "output_type": "stream",
     "text": [
      "Step: 10000, Loss: 106011360.000000\n",
      "Step: 20000, Loss: 56766896.000000\n",
      "Step: 30000, Loss: 4236033.000000\n",
      "Step: 40000, Loss: 2757568.500000\n",
      "Step: 50000, Loss: 2757586.500000\n",
      "Step: 60000, Loss: 2757586.000000\n",
      "Step: 70000, Loss: 2757576.750000\n",
      "Step: 80000, Loss: 2757569.500000\n",
      "Step: 90000, Loss: 2757570.250000\n",
      "Step: 100000, Loss: 2757581.750000\n"
     ]
    },
    {
     "data": {
      "image/png": "[encoded data removed]",
      "text/plain": [
       "<matplotlib.figure.Figure at 0x1ea3af68e10>"
      ]
     },
     "metadata": {},
     "output_type": "display_data"
    },
    {
     "name": "stdout",
     "output_type": "stream",
     "text": [
      "\n",
      " Prediction using the developed model \n",
      " Evaluation input:   [[30], [36]] \n",
      " Predicted values:   [[39848.277]\n",
      " [43030.06 ]]\n"
     ]
    }
   ],
   "source": [
    "# -*- coding: utf-8 -*-\n",
    "\"\"\"\n",
    "Linear regression problem EX1\n",
    "Predicting maintenance cost by age of facilities\n",
    "@author: t.imai\n",
    "\"\"\"\n",
    "\n",
    "import tensorflow as tf\n",
    "import numpy as np\n",
    "import matplotlib.pyplot as plt\n",
    "\n",
    "num_hidden = 100  # 隠れ層の次元数 変えてみることで精度などが変化する。\n",
    "\n",
    "# xのshapeの2番めの値は入力するデータの種類をいれる。\n",
    "x = tf.placeholder(tf.float32, shape=[None, 1])\n",
    "t = tf.placeholder(tf.float32, shape=[None, 1])\n",
    "\n",
    "# 入力層 - 隠れ層\n",
    "W = tf.Variable(tf.truncated_normal([1, num_hidden]))\n",
    "b = tf.Variable(tf.zeros([num_hidden]))\n",
    "h = tf.nn.relu(tf.matmul(x, W) + b)\n",
    "\n",
    "# 隠れ層 - 出力層\n",
    "V = tf.Variable(tf.truncated_normal([num_hidden, 1]))\n",
    "c = tf.Variable(tf.zeros([1]))\n",
    "y = tf.matmul(h, V) + c    # 値の予測なので、活性化関数は使わない\n",
    "\n",
    "loss = tf.reduce_sum(tf.square(y-t))\n",
    "\n",
    "train_step = tf.train.AdamOptimizer().minimize(loss)\n",
    "\n",
    "sess = tf.Session()\n",
    "sess.run(tf.global_variables_initializer())\n",
    "\n",
    "# この例題では、入力値を直接プラグラム文にかきこんでいる。普通は別ファイルから読み込む。\n",
    "X_train = np.array([[33], [23], [39], [45]])\n",
    "Y_train = np.array([[41000], [36000], [46000], [47000]])\n",
    "\n",
    "# 学習の進行をグラフで描くために誤差をとっておく場所を確保する。for epochの前に置く。\n",
    "loss_vec = []\n",
    "\n",
    "i = 0\n",
    "for epoch in range(100000):\n",
    "    i += 1\n",
    "    sess.run(train_step, feed_dict={x: X_train, t: Y_train})\n",
    "    if i % 10000 == 0:\n",
    "        loss_val = sess.run(loss, feed_dict={x: X_train, t: Y_train})\n",
    "        print ('Step: %d, Loss: %f' % (i, loss_val))\n",
    "\n",
    "    val_loss = sess.run(loss, feed_dict={x: X_train, t: Y_train})\n",
    "    loss_vec.append(val_loss)\n",
    "\n",
    "# lossの収束の様子をグラフに描く。 kは黒色、- は実線。 \n",
    "plt.plot(loss_vec, 'k-', label='Train Loss')\n",
    "plt.title('Loss per Epochs')\n",
    "plt.legend(loc='upper right')\n",
    "plt.xlabel('Epochs')\n",
    "plt.ylabel('Loss')\n",
    "plt.show()    \n",
    "\n",
    "X_test = [[30], [36]]\n",
    "Y_test_val = sess.run(y, feed_dict={x: X_test})  \n",
    "print (\"\\n Prediction using the developed model\", \\\n",
    "       \"\\n Evaluation input:  \", X_test, \\\n",
    "       \"\\n Predicted values:  \", Y_test_val)\n"
   ]
  }
 ],
 "metadata": {
  "kernelspec": {
   "display_name": "Python [default]",
   "language": "python",
   "name": "python3"
  },
  "language_info": {
   "codemirror_mode": {
    "name": "ipython",
    "version": 3
   },
   "file_extension": ".py",
   "mimetype": "text/x-python",
   "name": "python",
   "nbconvert_exporter": "python",
   "pygments_lexer": "ipython3",
   "version": "3.5.5"
  }
 },
 "nbformat": 4,
 "nbformat_minor": 1
}
